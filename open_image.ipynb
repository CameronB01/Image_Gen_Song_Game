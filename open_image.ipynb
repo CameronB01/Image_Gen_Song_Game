{
 "cells": [
  {
   "cell_type": "code",
   "execution_count": 1,
   "id": "ef3c728e-23d6-4d83-b8b6-275cb9221053",
   "metadata": {},
   "outputs": [
    {
     "name": "stdout",
     "output_type": "stream",
     "text": [
      "Running job...\n",
      "Opened: /Users/cameronbayer/Desktop/Stuff/Data Science/Projects/Image_Gen/images/I Don't Wanna Go To Heaven.jpg\n"
     ]
    }
   ],
   "source": [
    "import os\n",
    "import glob\n",
    "import schedule\n",
    "import time\n",
    "import datetime\n",
    "import subprocess\n",
    "\n",
    "def open_recent_jpg():    \n",
    "    # folder_path = os.path.join(os.getcwd(), 'Desktop/Stuff/Data Science/Projects/Image_Gen/images')\n",
    "    folder_path = os.path.join(os.getcwd(), 'images')\n",
    "\n",
    "\n",
    "    jpg_files = glob.glob(os.path.join(folder_path, '*.jpg'))\n",
    "\n",
    "    if not jpg_files:\n",
    "        print(\"No JPG files found in the folder.\")\n",
    "        return\n",
    "\n",
    "    most_recent_jpg = max(jpg_files, key=os.path.getmtime)\n",
    "\n",
    "    try:\n",
    "        applescript_command = f'tell application \"Preview\"\\n' \\\n",
    "                              f'activate\\n' \\\n",
    "                              f'open \"{most_recent_jpg}\"\\n' \\\n",
    "                              f'tell application \"System Events\"\\n' \\\n",
    "                              f'key code 3 using {{control down, command down}}\\n' \\\n",
    "                              f'end tell\\n' \\\n",
    "                              f'end tell\\n'\n",
    "        subprocess.Popen(['osascript', '-e', applescript_command])\n",
    "\n",
    "        print(f\"Opened: {most_recent_jpg}\")\n",
    "    except Exception as e:\n",
    "        print(f\"Error opening file: {e}\")\n",
    "\n",
    "# def job():\n",
    "print(\"Running job...\")\n",
    "open_recent_jpg()\n",
    "\n",
    "# schedule.every().day.at(\"11:39\").do(job)\n",
    "\n",
    "# while True:\n",
    "#     schedule.run_pending()\n",
    "#     time.sleep(10)  # Adjust as needed\n"
   ]
  },
  {
   "cell_type": "code",
   "execution_count": null,
   "id": "588f09fc-512b-4f81-90d9-2f1347791b61",
   "metadata": {},
   "outputs": [],
   "source": []
  },
  {
   "cell_type": "code",
   "execution_count": null,
   "id": "4aa7d694-29a8-49e6-9031-27bc24884663",
   "metadata": {},
   "outputs": [
    {
     "name": "stdout",
     "output_type": "stream",
     "text": [
      "pygame 2.5.2 (SDL 2.28.3, Python 3.10.13)\n",
      "Hello from the pygame community. https://www.pygame.org/contribute.html\n"
     ]
    }
   ],
   "source": [
    "import os\n",
    "import time\n",
    "import pygame\n",
    "import glob\n",
    "\n",
    "pygame.init()\n",
    "\n",
    "screen = pygame.display.set_mode((0, 0), pygame.FULLSCREEN)\n",
    "screen_width, screen_height = screen.get_size()\n",
    "\n",
    "def display_image(image_path):\n",
    "    image = pygame.image.load(image_path)\n",
    "    \n",
    "    image_width, image_height = image.get_size()\n",
    "    \n",
    "    scale_factor = min(screen_width / image_width, screen_height / image_height)\n",
    "    \n",
    "    scaled_width = int(image_width * scale_factor)\n",
    "    scaled_height = int(image_height * scale_factor)\n",
    "    scaled_image = pygame.transform.scale(image, (scaled_width, scaled_height))\n",
    "    \n",
    "    x = (screen_width - scaled_width) // 2\n",
    "    y = (screen_height - scaled_height) // 2\n",
    "    \n",
    "    screen.fill((0, 0, 0))\n",
    "    \n",
    "    screen.blit(scaled_image, (x, y))\n",
    "    pygame.display.flip()\n",
    "\n",
    "folder_path = os.path.join(os.getcwd(), 'images')\n",
    "\n",
    "while True:\n",
    "    jpg_files = glob.glob(os.path.join(folder_path, '*.jpg'))\n",
    "\n",
    "    if jpg_files:\n",
    "        most_recent_jpg = max(jpg_files, key=os.path.getmtime)\n",
    "\n",
    "        display_image(most_recent_jpg)\n",
    "\n",
    "        # Wait for 10 minutes (600 seconds)\n",
    "        time.sleep(50)\n",
    "    else:\n",
    "        print(\"No JPG files found in the folder.\")\n",
    "\n",
    "    # Handle events\n",
    "    for event in pygame.event.get():\n",
    "        if event.type == pygame.QUIT:\n",
    "            pygame.quit()\n",
    "            quit()"
   ]
  },
  {
   "cell_type": "code",
   "execution_count": null,
   "id": "87228f84-252f-4496-a348-e773d005235a",
   "metadata": {},
   "outputs": [],
   "source": []
  }
 ],
 "metadata": {
  "kernelspec": {
   "display_name": "Python 3 (ipykernel)",
   "language": "python",
   "name": "python3"
  },
  "language_info": {
   "codemirror_mode": {
    "name": "ipython",
    "version": 3
   },
   "file_extension": ".py",
   "mimetype": "text/x-python",
   "name": "python",
   "nbconvert_exporter": "python",
   "pygments_lexer": "ipython3",
   "version": "3.10.13"
  }
 },
 "nbformat": 4,
 "nbformat_minor": 5
}
