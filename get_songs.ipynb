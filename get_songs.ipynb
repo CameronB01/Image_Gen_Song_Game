{
 "cells": [
  {
   "cell_type": "code",
   "execution_count": 5,
   "id": "14140780-1c59-4181-9d1f-500f4f0e7f9c",
   "metadata": {},
   "outputs": [],
   "source": [
    "import replicate\n",
    "import os\n",
    "from IPython.display import Image\n",
    "import random\n",
    "import spotipy\n",
    "from spotipy.oauth2 import SpotifyClientCredentials\n",
    "import re\n",
    "import urllib.request\n",
    "import schedule\n",
    "import time\n",
    "import subprocess\n",
    "from openai import OpenAI\n",
    "import random\n",
    "import requests"
   ]
  },
  {
   "cell_type": "code",
   "execution_count": 6,
   "id": "07d62b2a-201e-477c-9eff-c8075b82a12d",
   "metadata": {},
   "outputs": [],
   "source": [
    "os.environ[\"SPOTIPY_CLIENT_ID\"] = \"insert_your_spotify_client_id\"\n",
    "os.environ[\"SPOTIPY_CLIENT_SECRET\"] = \"insert_your_spotify_client_secret\"\n",
    "os.environ[\"SPOTIPY_REDIRECT_URI\"] = \"insert_your_spotipy_redirect_url\""
   ]
  },
  {
   "cell_type": "code",
   "execution_count": null,
   "id": "c088a17f-757e-44bc-add8-54c73760750a",
   "metadata": {},
   "outputs": [],
   "source": [
    "url = input(\"Please enter the link to a playlist: \")\n",
    "\n",
    "playlist_id_search = re.search(r'/playlist/([^/?]+)', url)\n",
    "if playlist_id_search:\n",
    "    playlist_id = playlist_id_search.group(1) \n",
    "    print(playlist_id)"
   ]
  },
  {
   "cell_type": "code",
   "execution_count": 8,
   "id": "9e197a90-de23-4aea-84a9-02d749e8765e",
   "metadata": {},
   "outputs": [],
   "source": [
    "auth_manager = SpotifyClientCredentials()\n",
    "sp = spotipy.Spotify(auth_manager=auth_manager)\n",
    "\n",
    "def get_all_playlist_tracks(playlist_id):\n",
    "    tracks = []\n",
    "    results = sp.playlist_tracks(playlist_id)\n",
    "    tracks.extend(results['items'])\n",
    "\n",
    "    while results['next']:\n",
    "        results = sp.next(results)\n",
    "        tracks.extend(results['items'])\n",
    "\n",
    "    return tracks\n",
    "\n",
    "all_tracks = get_all_playlist_tracks(playlist_id)\n",
    "\n",
    "track_names = []\n",
    "\n",
    "for track in all_tracks:\n",
    "    song_name = track['track']['name']\n",
    "    track_names.append(song_name)\n",
    "    artist_names = [artist['name'] for artist in track['track']['artists']]\n",
    "    # print(f\"Song: {song_name} | Artists: {', '.join(artist_names)}\")"
   ]
  },
  {
   "cell_type": "code",
   "execution_count": null,
   "id": "761d3866-796c-4a26-90b4-e6a8094f25f2",
   "metadata": {},
   "outputs": [],
   "source": [
    "track_names"
   ]
  },
  {
   "cell_type": "code",
   "execution_count": null,
   "id": "de133d4e-6d58-4287-b7ec-158ca7ed10fe",
   "metadata": {},
   "outputs": [],
   "source": []
  }
 ],
 "metadata": {
  "kernelspec": {
   "display_name": "Python 3 (ipykernel)",
   "language": "python",
   "name": "python3"
  },
  "language_info": {
   "codemirror_mode": {
    "name": "ipython",
    "version": 3
   },
   "file_extension": ".py",
   "mimetype": "text/x-python",
   "name": "python",
   "nbconvert_exporter": "python",
   "pygments_lexer": "ipython3",
   "version": "3.10.13"
  }
 },
 "nbformat": 4,
 "nbformat_minor": 5
}
