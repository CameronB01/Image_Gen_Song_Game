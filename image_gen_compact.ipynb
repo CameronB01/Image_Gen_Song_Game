{
 "cells": [
  {
   "cell_type": "markdown",
   "metadata": {},
   "source": [
    "# TO RUN EACH CELL JUST HOLD SHIFT + ENTER"
   ]
  },
  {
   "cell_type": "markdown",
   "metadata": {},
   "source": [
    "### Import required packages"
   ]
  },
  {
   "cell_type": "code",
   "execution_count": null,
   "metadata": {},
   "outputs": [],
   "source": [
    "import os\n",
    "from IPython.display import Image\n",
    "import random\n",
    "import spotipy\n",
    "from spotipy.oauth2 import SpotifyClientCredentials\n",
    "import re\n",
    "import urllib.request\n",
    "import time\n",
    "import subprocess\n",
    "from openai import OpenAI\n",
    "import random\n",
    "import requests\n",
    "import glob"
   ]
  },
  {
   "cell_type": "markdown",
   "metadata": {},
   "source": [
    "### Set necessary keys"
   ]
  },
  {
   "cell_type": "code",
   "execution_count": null,
   "metadata": {},
   "outputs": [],
   "source": [
    "os.environ[\"OPENAI_API_KEY\"] = ''\n",
    "\n",
    "os.environ[\"SPOTIPY_CLIENT_ID\"] = \"\"\n",
    "os.environ[\"SPOTIPY_CLIENT_SECRET\"] = \"\"\n",
    "os.environ[\"SPOTIPY_REDIRECT_URI\"] = \"\""
   ]
  },
  {
   "cell_type": "markdown",
   "metadata": {},
   "source": [
    "## Insert the name of your playlist as well as the share playlist link from Spotify"
   ]
  },
  {
   "cell_type": "code",
   "execution_count": null,
   "metadata": {},
   "outputs": [],
   "source": [
    "playlist_name = input(\"Please enter the name of a playlist: \")\n",
    "url = input(\"Please enter the share link to the playlist: \")\n",
    "\n",
    "playlist_id_search = re.search(r'/playlist/([^/?]+)', url)\n",
    "if playlist_id_search:\n",
    "    playlist_id = playlist_id_search.group(1) \n",
    "    print(playlist_id)"
   ]
  },
  {
   "cell_type": "markdown",
   "metadata": {},
   "source": [
    "## This gets all of the track names and artist names from your provided playlist"
   ]
  },
  {
   "cell_type": "code",
   "execution_count": null,
   "metadata": {},
   "outputs": [],
   "source": [
    "auth_manager = SpotifyClientCredentials()\n",
    "sp = spotipy.Spotify(auth_manager=auth_manager)\n",
    "\n",
    "def get_all_playlist_tracks(playlist_id):\n",
    "    tracks = []\n",
    "    results = sp.playlist_tracks(playlist_id) \n",
    "    tracks.extend(results['items'])\n",
    "\n",
    "    while results['next']:\n",
    "        results = sp.next(results)\n",
    "        tracks.extend(results['items'])\n",
    "\n",
    "    return tracks\n",
    "\n",
    "all_tracks = get_all_playlist_tracks(playlist_id)\n",
    "\n",
    "track_names = {}\n",
    "\n",
    "for track in all_tracks:\n",
    "    song_name = track['track']['name']\n",
    "    artist_names = [artist['name'] for artist in track['track']['artists']]\n",
    "    track_names[song_name] = artist_names"
   ]
  },
  {
   "cell_type": "code",
   "execution_count": null,
   "metadata": {},
   "outputs": [],
   "source": [
    "tracks = list(track_names.keys())\n",
    "\n",
    "all_songs = tracks.copy()\n",
    "\n",
    "def choose_and_remove(track_names):\n",
    "    if track_names:\n",
    "        chosen = random.choice(track_names)\n",
    "        track_names.remove(chosen)\n",
    "        return chosen\n",
    "    else:\n",
    "        return None "
   ]
  },
  {
   "cell_type": "markdown",
   "metadata": {},
   "source": [
    "### Create a new folder for each playlist"
   ]
  },
  {
   "cell_type": "code",
   "execution_count": null,
   "metadata": {},
   "outputs": [],
   "source": [
    "folder_path = os.path.join(os.getcwd(), 'images', playlist_name)\n",
    "\n",
    "if not os.path.exists(folder_path):\n",
    "    os.makedirs(folder_path)\n",
    "    print(\"Folder was created.\")\n",
    "else:\n",
    "    print(\"Folder already exists.\")\n"
   ]
  },
  {
   "cell_type": "markdown",
   "metadata": {},
   "source": [
    "### Figures out which song titles have already been generated"
   ]
  },
  {
   "cell_type": "code",
   "execution_count": null,
   "metadata": {},
   "outputs": [],
   "source": [
    "folder_path = os.path.join(os.getcwd(), 'images', playlist_name)\n",
    "\n",
    "jpg_files = glob.glob(os.path.join(folder_path, '*.jpg'))\n",
    "\n",
    "created_images = []\n",
    "\n",
    "for file in jpg_files:\n",
    "    image_name = file.split(f\"/images/{playlist_name}/\")[1].split(\"_\")[0]\n",
    "    created_images.append(image_name)\n",
    "\n",
    "print(created_images)"
   ]
  },
  {
   "cell_type": "markdown",
   "metadata": {},
   "source": [
    "# This is the call to ChatGPT\n",
    "## There are 4 things you can change  in this script:\n",
    "### 1) You can change the \"prompt=\" section which is the prompt that will be given to DALL-E (Just change this one most!)\n",
    "### 2) You can change the \"size=\" section. You won't actully want to do this though as it's already set to the highest resolution they allow\n",
    "### 3) You can change the \"quality=\" section. Again you won't really want to do this, but if you want a smaller lower resolution image for some reason it can be set to \"standard\"\n",
    "### 4) You can change the \"n=\" section. I haven't tested this with more than 1 image, so this might break the whole thing."
   ]
  },
  {
   "cell_type": "code",
   "execution_count": null,
   "metadata": {},
   "outputs": [],
   "source": [
    "### Figures out which song titles have already been generated\n",
    "folder_path = os.path.join(os.getcwd(), 'images', playlist_name)\n",
    "jpg_files = glob.glob(os.path.join(folder_path, '*.jpg'))\n",
    "\n",
    "created_images = []\n",
    "for file in jpg_files:\n",
    "    image_name = file.split(f\"/images/{playlist_name}/\")[1].split(\"_\")[0]\n",
    "    created_images.append(image_name)\n",
    "\n",
    "tracks = all_songs.copy()\n",
    "\n",
    "client = OpenAI()\n",
    "\n",
    "for _ in all_songs:\n",
    "    while True:\n",
    "        chosen_song = choose_and_remove(tracks) \n",
    "        if chosen_song not in created_images:\n",
    "            artist = track_names[chosen_song][0]\n",
    "            artist = artist.replace(\"/\", \"_\")\n",
    "            break\n",
    "    if not chosen_song: \n",
    "        print(\"All song images have been generated from this playlist!\")\n",
    "    else:\n",
    "        while True: \n",
    "            try:\n",
    "                response = client.images.generate(\n",
    "                  model=\"dall-e-3\",\n",
    "                  # prompt=f'create an image that reflects the meaning of {chosen_song} by {artist} and include the song title in the image and make it 16x9 aspect ratio',\n",
    "                  prompt=f'You are an artist tasked with creating an evocative image inspired by the lyrics and messages conveyed in a song. The song you are focusing on is {chosen_song} by {artist}. Your goal is to craft an image that captures the essence, emotions, and themes portrayed in the song.', \n",
    "                  size=\"1792x1024\",\n",
    "                  quality=\"hd\",\n",
    "                  n=1,\n",
    "                )\n",
    "                image_url = response.data[0].url\n",
    "                print(f\"Image URL: {image_url}\")\n",
    "                break  \n",
    "            except Exceptions as e:\n",
    "                print(f\"Error generating image for '{chosen_song}': {e}\")\n",
    "        file_name = f'{chosen_song}_{artist}.jpg' \n",
    "        file_path = os.path.join(os.getcwd(), 'images', playlist_name, file_name)\n",
    "        image_data = urllib.request.urlopen(image_url).read()\n",
    "        with open(file_path, 'wb') as f:\n",
    "            f.write(image_data)\n",
    "\n",
    "# if not tracks and 'image_url' not in locals(): \n",
    "#     print(\"Failed to generate an image for any of the provided songs.\")\n"
   ]
  },
  {
   "cell_type": "code",
   "execution_count": null,
   "metadata": {},
   "outputs": [],
   "source": [
    "tracks"
   ]
  },
  {
   "cell_type": "code",
   "execution_count": null,
   "metadata": {},
   "outputs": [],
   "source": [
    "all_songs"
   ]
  }
 ],
 "metadata": {
  "kernelspec": {
   "display_name": "Python 3 (ipykernel)",
   "language": "python",
   "name": "python3"
  },
  "language_info": {
   "codemirror_mode": {
    "name": "ipython",
    "version": 3
   },
   "file_extension": ".py",
   "mimetype": "text/x-python",
   "name": "python",
   "nbconvert_exporter": "python",
   "pygments_lexer": "ipython3",
   "version": "3.11.7"
  }
 },
 "nbformat": 4,
 "nbformat_minor": 4
}
